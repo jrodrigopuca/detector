{
 "cells": [
  {
   "cell_type": "markdown",
   "metadata": {},
   "source": [
    "# Detección\n",
    "## Método HOG\n",
    "### Reconocer persona en video (todos los frames completos)"
   ]
  },
  {
   "cell_type": "code",
   "execution_count": 6,
   "metadata": {},
   "outputs": [],
   "source": [
    "import numpy as np\n",
    "import cv2\n",
    "import datetime\n",
    "import matplotlib.pyplot as plt"
   ]
  },
  {
   "cell_type": "code",
   "execution_count": 17,
   "metadata": {},
   "outputs": [],
   "source": [
    "def detectar(imagen, metodo):\n",
    "    # Capturo los puntos en donde posiblemente se encuentre la persona\n",
    "    rgb= cv2.cvtColor(imagen, cv2.COLOR_BGR2GRAY)\n",
    "    rects, weights = metodo.detectMultiScale(rgb,winStride=(16, 16),padding=(32, 32))\n",
    "\n",
    "    # Dibujo rectángulo\n",
    "    for i, (x, y, w, h) in enumerate(rects):\n",
    "        cv2.rectangle(imagen,(x,y),(x+w,y+h),(0,255,0),10)  \n",
    "        fuente=cv2.FONT_HERSHEY_SIMPLEX\n",
    "        peso=weights[i]\n",
    "        cv2.putText(imagen, str(peso), (x, y), fuente, 0.8, (0, 255, 0), 1, cv2.LINE_AA)\n",
    "    return imagen"
   ]
  },
  {
   "cell_type": "code",
   "execution_count": 18,
   "metadata": {},
   "outputs": [
    {
     "name": "stdout",
     "output_type": "stream",
     "text": [
      "analizando:  1\n",
      "analizando:  2\n",
      "analizando:  3\n",
      "analizando:  4\n",
      "analizando:  5\n",
      "analizando:  6\n",
      "analizando:  7\n",
      "analizando:  8\n",
      "analizando:  9\n",
      "analizando:  10\n",
      "analizando:  11\n",
      "analizando:  12\n",
      "analizando:  13\n",
      "analizando:  14\n",
      "analizando:  15\n",
      "analizando:  16\n",
      "analizando:  17\n",
      "analizando:  18\n",
      "analizando:  19\n",
      "analizando:  20\n",
      "analizando:  21\n",
      "analizando:  22\n",
      "analizando:  23\n",
      "analizando:  24\n",
      "analizando:  25\n",
      "analizando:  26\n",
      "analizando:  27\n",
      "analizando:  28\n",
      "analizando:  29\n",
      "analizando:  30\n",
      "analizando:  31\n",
      "analizando:  32\n",
      "analizando:  33\n",
      "analizando:  34\n",
      "analizando:  35\n",
      "analizando:  36\n",
      "analizando:  37\n",
      "analizando:  38\n",
      "analizando:  39\n",
      "analizando:  40\n",
      "analizando:  41\n",
      "analizando:  42\n",
      "analizando:  43\n",
      "analizando:  44\n",
      "analizando:  45\n",
      "analizando:  46\n",
      "analizando:  47\n",
      "analizando:  48\n",
      "analizando:  49\n",
      "analizando:  50\n",
      "analizando:  51\n",
      "analizando:  52\n",
      "analizando:  53\n",
      "analizando:  54\n",
      "analizando:  55\n",
      "analizando:  56\n",
      "analizando:  57\n",
      "analizando:  58\n",
      "analizando:  59\n",
      "analizando:  60\n",
      "analizando:  61\n",
      "analizando:  62\n",
      "analizando:  63\n",
      "analizando:  64\n",
      "analizando:  65\n",
      "analizando:  66\n",
      "analizando:  67\n",
      "analizando:  68\n",
      "analizando:  69\n",
      "analizando:  70\n",
      "[INFO] Listo\n",
      "[INFO] tiempo: 55.54271s\n"
     ]
    }
   ],
   "source": [
    "# Empiezo a capturar el tiempo\n",
    "myTime =  datetime.datetime.now()\n",
    "\n",
    "video= cv2.VideoCapture('videos/tecnica.mp4')\n",
    "\n",
    "fps=video.get(cv2.CAP_PROP_FPS)\n",
    "codec =cv2.VideoWriter_fourcc(*'XVID')\n",
    "size = (int(video.get(cv2.CAP_PROP_FRAME_WIDTH)),\n",
    "        int(video.get(cv2.CAP_PROP_FRAME_HEIGHT)))\n",
    "nuevoVideo= cv2.VideoWriter('result/something-01.mp4',codec,fps,size)  \n",
    "\n",
    "i=0\n",
    "success, frame = video.read()\n",
    "hog = cv2.HOGDescriptor()\n",
    "hog.setSVMDetector( cv2.HOGDescriptor_getDefaultPeopleDetector() )\n",
    "\n",
    "while success:\n",
    "    i+=1\n",
    "    print(\"analizando: \",i)  \n",
    "    frame= detectar(frame, hog)\n",
    "    nuevoVideo.write(frame)\n",
    "    success, frame = video.read()    \n",
    "video.release()\n",
    "nuevoVideo.release()\n",
    "\n",
    "print(\"[INFO] Listo\")\n",
    "print(\"[INFO] tiempo: {}s\".format((datetime.datetime.now() - myTime).total_seconds()))"
   ]
  },
  {
   "cell_type": "markdown",
   "metadata": {},
   "source": [
    "63.684551s"
   ]
  },
  {
   "cell_type": "code",
   "execution_count": null,
   "metadata": {},
   "outputs": [],
   "source": []
  }
 ],
 "metadata": {
  "kernelspec": {
   "display_name": "Python 3",
   "language": "python",
   "name": "python3"
  },
  "language_info": {
   "codemirror_mode": {
    "name": "ipython",
    "version": 3
   },
   "file_extension": ".py",
   "mimetype": "text/x-python",
   "name": "python",
   "nbconvert_exporter": "python",
   "pygments_lexer": "ipython3",
   "version": "3.6.8"
  }
 },
 "nbformat": 4,
 "nbformat_minor": 2
}
