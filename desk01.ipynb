{
 "cells": [
  {
   "cell_type": "code",
   "execution_count": 1,
   "metadata": {},
   "outputs": [
    {
     "name": "stdout",
     "output_type": "stream",
     "text": [
      "[INFO]: INICIO\n",
      "[INFO]: FIN\n"
     ]
    }
   ],
   "source": [
    "from PyQt5.QtWidgets import QApplication, QWidget, QLabel, QVBoxLayout,QPushButton, QMessageBox, QAction, QMenuBar\n",
    "# conectar con click\n",
    "def onClick():\n",
    "    alert = QMessageBox()\n",
    "    alert.setText('click')\n",
    "    alert.exec_()\n",
    "    \n",
    "# modulo principal\n",
    "def app():\n",
    "    my_app = QApplication([])\n",
    "    window=QWidget()\n",
    "    window.setWindowTitle(\"Probando\")\n",
    "    layout = QVBoxLayout()\n",
    "\n",
    "    btn1= QPushButton('Click')\n",
    "    btn1.clicked.connect(onClick)\n",
    "    \n",
    "    menu = QMenuBar()\n",
    "    help_menu = menu.addMenu('Help')\n",
    "    help_menu2 = menu.addMenu('Help2')\n",
    "    help_menu3 = menu.addMenu('Help3')\n",
    "    \n",
    "    label1=QLabel('Hola')\n",
    "    \n",
    "    layout.addWidget(menu)\n",
    "    layout.addWidget(label1)\n",
    "    layout.addWidget(btn1)\n",
    "\n",
    "    window.setLayout(layout)\n",
    "    window.show()\n",
    "    my_app.exec_()\n",
    "    print(\"[INFO]: FIN\")\n",
    "\n",
    "# programa principal\n",
    "if __name__ == '__main__':\n",
    "    print(\"[INFO]: INICIO\")\n",
    "    app()"
   ]
  },
  {
   "cell_type": "code",
   "execution_count": null,
   "metadata": {},
   "outputs": [],
   "source": []
  }
 ],
 "metadata": {
  "kernelspec": {
   "display_name": "Python 3",
   "language": "python",
   "name": "python3"
  },
  "language_info": {
   "codemirror_mode": {
    "name": "ipython",
    "version": 3
   },
   "file_extension": ".py",
   "mimetype": "text/x-python",
   "name": "python",
   "nbconvert_exporter": "python",
   "pygments_lexer": "ipython3",
   "version": "3.6.1"
  }
 },
 "nbformat": 4,
 "nbformat_minor": 2
}
