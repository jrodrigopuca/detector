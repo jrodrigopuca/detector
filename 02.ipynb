{
 "cells": [
  {
   "cell_type": "markdown",
   "metadata": {},
   "source": [
    "# Detección + Recortes\n",
    "### Reconocer persona en video (aplicando recortes)"
   ]
  },
  {
   "cell_type": "code",
   "execution_count": 3,
   "metadata": {},
   "outputs": [],
   "source": [
    "import numpy as np\n",
    "import cv2\n",
    "import datetime\n",
    "import matplotlib.pyplot as plt"
   ]
  },
  {
   "cell_type": "code",
   "execution_count": 4,
   "metadata": {},
   "outputs": [],
   "source": [
    "def detectar(imagen):\n",
    "    hog = cv2.HOGDescriptor()\n",
    "    hog.setSVMDetector( cv2.HOGDescriptor_getDefaultPeopleDetector() )\n",
    "    # Capturo los puntos en donde posiblemente se encuentre la persona\n",
    "    rects, weights = hog.detectMultiScale(imagen,winStride=(8, 8),padding=(16, 16),scale=1.05)\n",
    "\n",
    "    # Dibujo rectángulo\n",
    "    for i, (x, y, w, h) in enumerate(rects):\n",
    "        cv2.rectangle(imagen,(x,y),(x+w,y+h),(0,255,0),10)  \n",
    "        fuente=cv2.FONT_HERSHEY_SIMPLEX\n",
    "        peso=weights[i]\n",
    "        y2 = x - 15 if x - 15 > 15 else x + 15\n",
    "        cv2.putText(imagen, str(peso), (h, y2), fuente, 0.75, (0, 255, 0),2)\n",
    "    return imagen"
   ]
  },
  {
   "cell_type": "code",
   "execution_count": 6,
   "metadata": {},
   "outputs": [
    {
     "name": "stdout",
     "output_type": "stream",
     "text": [
      "123456789101112131415161718192021222324252627282930313233343536373839404142434445464748495051525354555657585960616263646566676869707172737475767778798081828384858687888990919293949596979899100101102103104105106107108109110111112113114115116117118119120121122123124125126127128129130131132133134135136137138139140141142143144145146147148149150151152153154155156157158159160161162163164165166167168169170171172173174175176177178179180181182183184185186187188189190191192193194195196197198199200201202203204205206207208209210211212213214215216217218219220221222223224225226227228229230231232233234235236237238239240241242243244245246247248249250251252253254255256257258259260261262263264265266267268269270271272273274275276277278279280281282283284285286287288289290291292293294295296297298299300301302303304305306307308309310311312313314315316317318319320321322323324325326327328329330331332333334335336337338339340341342343344345346347348349350351352353354355356357358359360361362363364365366367368369370371372373374375376377378379380381382383384385386387388389390391392393394395396397398399400401402403404405406407408409410411412413414415416417418419420421422423424425426427428429430431432433434435436437438439440441442443444445446447448449450451452453454455456457458459460461462463464465466467468469470471472473474475476477478479480481482483484485486487488489490491492493494495496497498499500501502503504505506507508509510511512513514515516517518519520521522523524525526527528529530531532533534535536537538539540541542543544545546547548549550551552553554555556557558559560561562563564565566567568569570571572573574575576577578579580581582583584585586587588589590591592593594595596597598599600601602603604605606607608609610611612613614615616617618619620621622623624625626627628629630631632633634635636637638639640641642643644645646647648649650651652653654655656657658659660661662663664665666667668669670671672673674675676677678679680681682683684685686687688689690691692693694695696697698699700701702703704705706\n",
      "[INFO] Listo\n",
      "[INFO] tiempo: 22.846393s\n"
     ]
    }
   ],
   "source": [
    "# Empiezo a capturar el tiempo\n",
    "myTime =  datetime.datetime.now()\n",
    "\n",
    "video= cv2.VideoCapture('videos-otros/calle.mp4')\n",
    "\n",
    "fps=video.get(cv2.CAP_PROP_FPS)\n",
    "codec =cv2.VideoWriter_fourcc(*'XVID')\n",
    "size = (int(video.get(cv2.CAP_PROP_FRAME_WIDTH)),\n",
    "        int(video.get(cv2.CAP_PROP_FRAME_HEIGHT)))\n",
    "nuevoVideo= cv2.VideoWriter('result/something.mp4',codec,fps,tuple(it//2 for it in size))  \n",
    "\n",
    "i=0\n",
    "success, frame = video.read()\n",
    "while success:\n",
    "    i+=1\n",
    "    #frame=cv2.resize(frame,(1280, 720))\n",
    "    rgb= cv2.cvtColor(frame[::2,::2], cv2.COLOR_BGR2RGB)\n",
    "    if (i%2 == 0):\n",
    "        nuevo_rgb= detectar(rgb)\n",
    "    else:\n",
    "        nuevo_rgb=rgb\n",
    "    print(str(i), end='', flush=True)  \n",
    "    nuevo_bgr= cv2.cvtColor(nuevo_rgb, cv2.COLOR_RGB2BGR)\n",
    "    nuevoVideo.write(nuevo_bgr)\n",
    "    success, frame = video.read()    \n",
    "video.release()\n",
    "nuevoVideo.release()\n",
    "\n",
    "print(\"\")\n",
    "print(\"[INFO] Listo\")\n",
    "print(\"[INFO] tiempo: {}s\".format((datetime.datetime.now() - myTime).total_seconds()))"
   ]
  },
  {
   "cell_type": "markdown",
   "metadata": {},
   "source": [
    "# Tiempos:\n",
    "149s completo\n",
    "071s frames por medio | mismo size\n",
    "022s frames por medio | mitad size\n"
   ]
  }
 ],
 "metadata": {
  "kernelspec": {
   "display_name": "Python 3",
   "language": "python",
   "name": "python3"
  },
  "language_info": {
   "codemirror_mode": {
    "name": "ipython",
    "version": 3
   },
   "file_extension": ".py",
   "mimetype": "text/x-python",
   "name": "python",
   "nbconvert_exporter": "python",
   "pygments_lexer": "ipython3",
   "version": "3.6.1"
  }
 },
 "nbformat": 4,
 "nbformat_minor": 2
}
