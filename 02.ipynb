{
 "cells": [
  {
   "cell_type": "markdown",
   "metadata": {},
   "source": [
    "# Detección + Recortes\n",
    "### Reconocer persona en video \n",
    "### Aplicando recortes: 50% de frames, cada frame a la mitad"
   ]
  },
  {
   "cell_type": "code",
   "execution_count": 1,
   "metadata": {},
   "outputs": [],
   "source": [
    "import numpy as np\n",
    "import cv2\n",
    "import datetime\n",
    "import matplotlib.pyplot as plt"
   ]
  },
  {
   "cell_type": "code",
   "execution_count": 2,
   "metadata": {},
   "outputs": [],
   "source": [
    "def detectar(imagen):\n",
    "    hog = cv2.HOGDescriptor()\n",
    "    hog.setSVMDetector( cv2.HOGDescriptor_getDefaultPeopleDetector() )\n",
    "    # Capturo los puntos en donde posiblemente se encuentre la persona\n",
    "    rects, weights = hog.detectMultiScale(imagen,winStride=(8, 8),padding=(16, 16),scale=1.05)\n",
    "\n",
    "    # Dibujo rectángulo\n",
    "    for i, (x, y, w, h) in enumerate(rects):\n",
    "        cv2.rectangle(imagen,(x,y),(x+w,y+h),(0,255,0),10)  \n",
    "        fuente=cv2.FONT_HERSHEY_SIMPLEX\n",
    "        peso=weights[i]\n",
    "        y2 = x - 15 if x - 15 > 15 else x + 15\n",
    "        cv2.putText(imagen, str(peso), (h, y2), fuente, 0.75, (0, 255, 0),2)\n",
    "    return imagen"
   ]
  },
  {
   "cell_type": "code",
   "execution_count": 3,
   "metadata": {},
   "outputs": [
    {
     "name": "stdout",
     "output_type": "stream",
     "text": [
      "12345678910111213141516171819202122232425262728293031323334353637383940414243444546474849505152535455565758596061626364656667686970\n",
      "[INFO] Listo\n",
      "[INFO] tiempo: 12.335895s\n"
     ]
    }
   ],
   "source": [
    "# Empiezo a capturar el tiempo\n",
    "myTime =  datetime.datetime.now()\n",
    "\n",
    "video= cv2.VideoCapture('videos/tecnica.mp4')\n",
    "\n",
    "fps=video.get(cv2.CAP_PROP_FPS)\n",
    "codec =cv2.VideoWriter_fourcc(*'XVID')\n",
    "size = (int(video.get(cv2.CAP_PROP_FRAME_WIDTH)),\n",
    "        int(video.get(cv2.CAP_PROP_FRAME_HEIGHT)))\n",
    "nuevoVideo= cv2.VideoWriter('result/something-02.mp4',codec,fps,tuple(it//2 for it in size))  \n",
    "\n",
    "i=0\n",
    "success, frame = video.read()\n",
    "while success:\n",
    "    i+=1\n",
    "    #frame=cv2.resize(frame,(1280, 720))\n",
    "    rgb= cv2.cvtColor(frame[::2,::2], cv2.COLOR_BGR2RGB)\n",
    "    if (i%2 == 0):\n",
    "        nuevo_rgb= detectar(rgb)\n",
    "    else:\n",
    "        nuevo_rgb=rgb\n",
    "    print(str(i), end='', flush=True)  \n",
    "    nuevo_bgr= cv2.cvtColor(nuevo_rgb, cv2.COLOR_RGB2BGR)\n",
    "    nuevoVideo.write(nuevo_bgr)\n",
    "    success, frame = video.read()    \n",
    "video.release()\n",
    "nuevoVideo.release()\n",
    "\n",
    "print(\"\")\n",
    "print(\"[INFO] Listo\")\n",
    "print(\"[INFO] tiempo: {}s\".format((datetime.datetime.now() - myTime).total_seconds()))"
   ]
  },
  {
   "cell_type": "code",
   "execution_count": null,
   "metadata": {},
   "outputs": [],
   "source": []
  }
 ],
 "metadata": {
  "kernelspec": {
   "display_name": "Python 3",
   "language": "python",
   "name": "python3"
  },
  "language_info": {
   "codemirror_mode": {
    "name": "ipython",
    "version": 3
   },
   "file_extension": ".py",
   "mimetype": "text/x-python",
   "name": "python",
   "nbconvert_exporter": "python",
   "pygments_lexer": "ipython3",
   "version": "3.6.8"
  }
 },
 "nbformat": 4,
 "nbformat_minor": 2
}
