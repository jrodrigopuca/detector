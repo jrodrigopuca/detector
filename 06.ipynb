{
 "cells": [
  {
   "cell_type": "markdown",
   "metadata": {},
   "source": [
    "## Detección usando cascada\n",
    "### Reconocer persona en video (análisis de la mitad de los frames completos)"
   ]
  },
  {
   "cell_type": "code",
   "execution_count": 2,
   "metadata": {},
   "outputs": [],
   "source": [
    "import numpy as np\n",
    "import cv2\n",
    "import datetime\n",
    "import matplotlib.pyplot as plt\n",
    "import os"
   ]
  },
  {
   "cell_type": "code",
   "execution_count": 8,
   "metadata": {},
   "outputs": [],
   "source": [
    "def detectarM2(metodo, imagen, segundo):    \n",
    "    # Capturo los puntos en donde posiblemente se encuentre la persona\n",
    "    rgb= cv2.cvtColor(imagen, cv2.COLOR_BGR2RGB)\n",
    "    gris=cv2.cvtColor(rgb,cv2.COLOR_RGB2GRAY)\n",
    "    rects = metodo.detectMultiScale(gris)\n",
    "    \n",
    "    # Dibujo rectángulo\n",
    "    for (x, y, w, h) in rects:\n",
    "        cv2.rectangle(imagen,(x,y),(x+w,y+h),(0,255,0),5)\n",
    "        if (w>0):\n",
    "            print(\"encontró algo\")\n",
    "    return imagen"
   ]
  },
  {
   "cell_type": "code",
   "execution_count": 9,
   "metadata": {},
   "outputs": [
    {
     "name": "stdout",
     "output_type": "stream",
     "text": [
      "[INFO] FPS: 25.0\n",
      "1-2-analizando:  2\n",
      "3-4-analizando:  4\n",
      "5-6-analizando:  6\n",
      "7-8-analizando:  8\n",
      "9-10-analizando:  10\n",
      "11-12-analizando:  12\n",
      "13-14-analizando:  14\n",
      "15-16-analizando:  16\n",
      "encontró algo\n",
      "17-18-analizando:  18\n",
      "19-20-analizando:  20\n",
      "21-22-analizando:  22\n",
      "encontró algo\n",
      "23-24-analizando:  24\n",
      "25-26-analizando:  26\n",
      "27-28-analizando:  28\n",
      "29-30-analizando:  30\n",
      "encontró algo\n",
      "31-32-analizando:  32\n",
      "encontró algo\n",
      "33-34-analizando:  34\n",
      "encontró algo\n",
      "encontró algo\n",
      "35-36-analizando:  36\n",
      "encontró algo\n",
      "37-38-analizando:  38\n",
      "encontró algo\n",
      "encontró algo\n",
      "39-40-analizando:  40\n",
      "41-42-analizando:  42\n",
      "43-44-analizando:  44\n",
      "45-46-analizando:  46\n",
      "encontró algo\n",
      "47-48-analizando:  48\n",
      "encontró algo\n",
      "49-50-analizando:  50\n",
      "51-52-analizando:  52\n",
      "encontró algo\n",
      "53-54-analizando:  54\n",
      "55-56-analizando:  56\n",
      "57-58-analizando:  58\n",
      "59-60-analizando:  60\n",
      "61-62-analizando:  62\n",
      "63-64-analizando:  64\n",
      "65-66-analizando:  66\n",
      "67-68-analizando:  68\n",
      "69-70-analizando:  70\n",
      "\n",
      "[INFO] Listo\n",
      "[INFO] tiempo: 19.821523s\n"
     ]
    }
   ],
   "source": [
    "# Empiezo a capturar el tiempo\n",
    "myTime =  datetime.datetime.now()\n",
    "\n",
    "video= cv2.VideoCapture('videos/tecnica.mp4')\n",
    "\n",
    "fps=video.get(cv2.CAP_PROP_FPS)\n",
    "print(\"[INFO] FPS:\", fps)\n",
    "codec =cv2.VideoWriter_fourcc(*'XVID')\n",
    "size = (int(video.get(cv2.CAP_PROP_FRAME_WIDTH)),\n",
    "        int(video.get(cv2.CAP_PROP_FRAME_HEIGHT)))\n",
    "nuevoVideo= cv2.VideoWriter('result/something-06.mp4',codec,fps,size)  \n",
    "\n",
    "i=0 #num frame\n",
    "seg=0 #segundo\n",
    "success, frame = video.read()\n",
    "cascada=cv2.CascadeClassifier(os.path.join('body.xml'))\n",
    "\n",
    "while success:\n",
    "    i+=1 \n",
    "    seg+=1\n",
    "    print(str(i), end='-', flush=True)  \n",
    "    \n",
    "    if (i%2 == 0):\n",
    "        print(\"analizando: \", i)\n",
    "        frame= detectarM2(cascada, frame, seg)\n",
    "\n",
    "    nuevoVideo.write(frame)\n",
    "    success, frame = video.read()    \n",
    "video.release()\n",
    "nuevoVideo.release()\n",
    "\n",
    "print(\"\")\n",
    "print(\"[INFO] Listo\")\n",
    "print(\"[INFO] tiempo: {}s\".format((datetime.datetime.now() - myTime).total_seconds()))"
   ]
  },
  {
   "cell_type": "code",
   "execution_count": null,
   "metadata": {},
   "outputs": [],
   "source": []
  }
 ],
 "metadata": {
  "kernelspec": {
   "display_name": "Python 3",
   "language": "python",
   "name": "python3"
  },
  "language_info": {
   "codemirror_mode": {
    "name": "ipython",
    "version": 3
   },
   "file_extension": ".py",
   "mimetype": "text/x-python",
   "name": "python",
   "nbconvert_exporter": "python",
   "pygments_lexer": "ipython3",
   "version": "3.6.8"
  }
 },
 "nbformat": 4,
 "nbformat_minor": 2
}
