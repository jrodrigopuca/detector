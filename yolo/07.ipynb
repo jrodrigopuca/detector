{
 "cells": [
  {
   "cell_type": "code",
   "execution_count": 1,
   "metadata": {
    "collapsed": false,
    "inputHidden": false,
    "outputHidden": false
   },
   "outputs": [],
   "source": [
    "import cv2\n",
    "import numpy as np\n",
    "import matplotlib.pyplot as plt"
   ]
  },
  {
   "cell_type": "code",
   "execution_count": 2,
   "metadata": {
    "collapsed": false,
    "inputHidden": false,
    "outputHidden": false
   },
   "outputs": [],
   "source": [
    "def detectar(net):\n",
    "  layer_names = net.getLayerNames()\n",
    "  output_layers = [layer_names[i[0] - 1] for i in net.getUnconnectedOutLayers()]\n",
    "  return output_layers"
   ]
  },
  {
   "cell_type": "code",
   "execution_count": 3,
   "metadata": {
    "collapsed": false,
    "inputHidden": false,
    "outputHidden": false
   },
   "outputs": [],
   "source": [
    "def dibujar(img, objId, prob, x, y, xw, yh):\n",
    "    label= str(clases[objId])\n",
    "    color=COLORES[objId]\n",
    "    cv2.rectangle(img, (x,y), (xw,yh), color, 2)\n",
    "    cv2.putText(img, label, (x-10,y-10), cv2.FONT_HERSHEY_SIMPLEX, 0.5, color, 2)"
   ]
  },
  {
   "cell_type": "code",
   "execution_count": 4,
   "metadata": {
    "collapsed": false,
    "inputHidden": false,
    "outputHidden": false
   },
   "outputs": [
    {
     "name": "stdout",
     "output_type": "stream",
     "text": [
      "Listo\n"
     ]
    }
   ],
   "source": [
    "file=\"luna.jpg\"\n",
    "config=\"yolov3.cfg\"\n",
    "txt=\"yolov3.txt\"\n",
    "pesos=\"yolov3.weights\"\n",
    "scale=0.00392\n",
    "\n",
    "# leer la lista de clases de objetos a buscar \n",
    "clases = None\n",
    "with open(txt, 'r') as f:\n",
    "    clases = [line.strip() for line in f.readlines()]\n",
    "COLORES = np.random.uniform(0, 255, size=(len(clases), 3))\n",
    "    \n",
    "# obtener datos de la imagen\n",
    "image= cv2.imread(file)\n",
    "ancho = image.shape[1]\n",
    "alto = image.shape[0]\n",
    "\n",
    "# valores del umbral\n",
    "conf_threshold = 0.5\n",
    "nms_threshold = 0.4\n",
    "\n",
    "# arrays para cargar datos\n",
    "arrayId=[]\n",
    "arrayProb=[]\n",
    "arrayCajas=[]\n",
    "\n",
    "# crear el DL\n",
    "dl= cv2.dnn.readNet(pesos, config)\n",
    "blob=cv2.dnn.blobFromImage(image, scale, (416,416), (0,0,0), True, crop=False)\n",
    "\n",
    "# detectar\n",
    "dl.setInput(blob)\n",
    "objetos= dl.forward(detectar(dl))\n",
    "\n",
    "# recorrer posibles objetos\n",
    "for objeto in objetos:\n",
    "    for algo in objeto:\n",
    "        objValor=algo[5:]\n",
    "        objId=np.argmax(objValor)\n",
    "        objProb=objValor[objId]\n",
    "        if objProb > 0.5:\n",
    "            centro_x= int(algo[0] * ancho)\n",
    "            centro_y= int(algo[1] * alto)\n",
    "            w=int(algo[2]*ancho)\n",
    "            h=int(algo[3]*alto)\n",
    "            x=centro_x- w/2 \n",
    "            y=centro_y- h/2\n",
    "            arrayId.append(objId)\n",
    "            arrayProb.append(float(objProb))\n",
    "            arrayCajas.append([x,y,w,h])\n",
    "indices= cv2.dnn.NMSBoxes(arrayCajas, arrayProb, conf_threshold, nms_threshold)\n",
    "\n",
    "for i in indices:\n",
    "  i= i[0]\n",
    "  caja=arrayCajas[i]\n",
    "  x=caja[0]\n",
    "  y=caja[1]\n",
    "  w=caja[2]\n",
    "  h=caja[3]\n",
    "  dibujar(image, arrayId[i], arrayProb[i], round(x), round(y), round(x+w), round(y+h))\n",
    " \n",
    "cv2.imwrite(\"resultado.jpg\", image)\n",
    "print(\"Listo\")"
   ]
  },
  {
   "cell_type": "code",
   "execution_count": null,
   "metadata": {
    "collapsed": false,
    "inputHidden": false,
    "outputHidden": false
   },
   "outputs": [],
   "source": []
  }
 ],
 "metadata": {
  "kernel_info": {
   "name": "python3"
  },
  "kernelspec": {
   "display_name": "Python 3",
   "language": "python",
   "name": "python3"
  },
  "language_info": {
   "codemirror_mode": {
    "name": "ipython",
    "version": 3
   },
   "file_extension": ".py",
   "mimetype": "text/x-python",
   "name": "python",
   "nbconvert_exporter": "python",
   "pygments_lexer": "ipython3",
   "version": "3.6.8"
  },
  "nteract": {
   "version": "0.14.0"
  }
 },
 "nbformat": 4,
 "nbformat_minor": 2
}
