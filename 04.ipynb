{
 "cells": [
  {
   "cell_type": "markdown",
   "metadata": {},
   "source": [
    "# Detección + Recortes\n",
    "### Reconocer persona en video \n",
    "### Analizando 1FPS"
   ]
  },
  {
   "cell_type": "code",
   "execution_count": 1,
   "metadata": {},
   "outputs": [],
   "source": [
    "import numpy as np\n",
    "import cv2\n",
    "import datetime\n",
    "import matplotlib.pyplot as plt"
   ]
  },
  {
   "cell_type": "code",
   "execution_count": 2,
   "metadata": {},
   "outputs": [],
   "source": [
    "def detectar(metodo, imagen, segundo):\n",
    "    rgb= cv2.cvtColor(imagen, cv2.COLOR_BGR2RGB)\n",
    "    \n",
    "    # Capturo los puntos en donde posiblemente se encuentre la persona\n",
    "    rects, weights = metodo.detectMultiScale(rgb,winStride=(16, 16),padding=(32, 32))\n",
    "\n",
    "    # Dibujo rectángulo\n",
    "    for i, (x, y, w, h) in enumerate(rects):\n",
    "        cv2.rectangle(imagen,(x,y),(x+w,y+h),(0,255,0),10)  \n",
    "        fuente=cv2.FONT_HERSHEY_SIMPLEX\n",
    "        peso=weights[i]\n",
    "        if (weights[i] > 0):\n",
    "            print(\"[INFO] Encontró algo!: \", segundo)\n",
    "        y2 = x - 15 if x - 15 > 15 else x + 15\n",
    "        cv2.putText(imagen, str(peso), (h, y2), fuente, 0.75, (0, 255, 0),2)\n",
    "    return imagen"
   ]
  },
  {
   "cell_type": "code",
   "execution_count": 3,
   "metadata": {},
   "outputs": [
    {
     "name": "stdout",
     "output_type": "stream",
     "text": [
      "[INFO] FPS: 25.0\n",
      "1-2-3-4-5-6-7-8-9-10-11-12-13-14-15-16-17-18-19-20-21-22-23-24-analizando:  25\n",
      "segundo:  1\n",
      "[INFO] Encontró algo!:  1\n",
      "25-26-27-28-29-30-31-32-33-34-35-36-37-38-39-40-41-42-43-44-45-46-47-48-49-analizando:  50\n",
      "segundo:  2\n",
      "[INFO] Encontró algo!:  2\n",
      "50-51-52-53-54-55-56-57-58-59-60-61-62-63-64-65-66-67-68-69-70-\n",
      "[INFO] Listo\n",
      "[INFO] tiempo: 4.154438s\n"
     ]
    }
   ],
   "source": [
    "# Empiezo a capturar el tiempo\n",
    "myTime =  datetime.datetime.now()\n",
    "hog = cv2.HOGDescriptor()\n",
    "hog.setSVMDetector( cv2.HOGDescriptor_getDefaultPeopleDetector() )\n",
    "video= cv2.VideoCapture('videos/tecnica.mp4')\n",
    "\n",
    "fps=video.get(cv2.CAP_PROP_FPS)\n",
    "print(\"[INFO] FPS:\", fps)\n",
    "codec =cv2.VideoWriter_fourcc(*'XVID')\n",
    "size = (int(video.get(cv2.CAP_PROP_FRAME_WIDTH)),\n",
    "        int(video.get(cv2.CAP_PROP_FRAME_HEIGHT)))\n",
    "nuevoVideo= cv2.VideoWriter('result/something-04.mp4',codec,fps,size)  \n",
    "\n",
    "i=0 #num frame\n",
    "seg=0 #segundo\n",
    "success, frame = video.read()\n",
    "while success:\n",
    "    i+=1 \n",
    "    if (i%fps == 0):\n",
    "        seg+=1\n",
    "        print(\"analizando: \", i)\n",
    "        print(\"segundo: \", seg)\n",
    "        frame= detectar(hog,frame, seg)\n",
    "\n",
    "    print(str(i), end='-', flush=True)  \n",
    "    nuevoVideo.write(frame)\n",
    "    success, frame = video.read()    \n",
    "video.release()\n",
    "nuevoVideo.release()\n",
    "\n",
    "print(\"\")\n",
    "print(\"[INFO] Listo\")\n",
    "print(\"[INFO] tiempo: {}s\".format((datetime.datetime.now() - myTime).total_seconds()))"
   ]
  },
  {
   "cell_type": "code",
   "execution_count": null,
   "metadata": {},
   "outputs": [],
   "source": []
  }
 ],
 "metadata": {
  "kernelspec": {
   "display_name": "Python 3",
   "language": "python",
   "name": "python3"
  },
  "language_info": {
   "codemirror_mode": {
    "name": "ipython",
    "version": 3
   },
   "file_extension": ".py",
   "mimetype": "text/x-python",
   "name": "python",
   "nbconvert_exporter": "python",
   "pygments_lexer": "ipython3",
   "version": "3.6.8"
  }
 },
 "nbformat": 4,
 "nbformat_minor": 2
}
